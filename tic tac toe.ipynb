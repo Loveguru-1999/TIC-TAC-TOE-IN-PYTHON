{
 "cells": [
  {
   "cell_type": "code",
   "execution_count": 1,
   "metadata": {},
   "outputs": [],
   "source": [
    "from IPython.display import clear_output\n",
    "\n",
    "def display_board(b):\n",
    "    clear_output()  \n",
    "    \n",
    "    print('   |   |')\n",
    "    print(' ' + b[1] + ' | ' + b[2] + ' | ' + b[3])\n",
    "    print('   |   |')\n",
    "    print('-----------')\n",
    "    print('   |   |')\n",
    "    print(' ' + b[4] + ' | ' + b[5] + ' | ' + b[6])\n",
    "    print('   |   |')\n",
    "    print('-----------')\n",
    "    print('   |   |')\n",
    "    print(' ' + b[7] + ' | ' + b[8] + ' | ' + b[9])\n",
    "    print('   |   |')"
   ]
  },
  {
   "cell_type": "code",
   "execution_count": 2,
   "metadata": {},
   "outputs": [
    {
     "name": "stdout",
     "output_type": "stream",
     "text": [
      "   |   |\n",
      "   |   |  \n",
      "   |   |\n",
      "-----------\n",
      "   |   |\n",
      "   |   |  \n",
      "   |   |\n",
      "-----------\n",
      "   |   |\n",
      "   |   |  \n",
      "   |   |\n"
     ]
    }
   ],
   "source": [
    "q=[\" \"]*10\n",
    "display_board(q)\n"
   ]
  },
  {
   "cell_type": "code",
   "execution_count": 3,
   "metadata": {},
   "outputs": [],
   "source": [
    "def choose():\n",
    "    w=''\n",
    "    while w!='x' and w!='o':\n",
    "        w=input(\"Player1 choose your symbol x or o:\")\n",
    "    if w is 'x':\n",
    "        player2='o'\n",
    "    else:\n",
    "        player2='x'\n",
    "    return(w,player2)\n",
    "\n",
    "        "
   ]
  },
  {
   "cell_type": "code",
   "execution_count": 4,
   "metadata": {},
   "outputs": [
    {
     "name": "stdout",
     "output_type": "stream",
     "text": [
      "Player1 choose your symbol x or o:x\n"
     ]
    },
    {
     "data": {
      "text/plain": [
       "('x', 'o')"
      ]
     },
     "execution_count": 4,
     "metadata": {},
     "output_type": "execute_result"
    }
   ],
   "source": [
    "choose()"
   ]
  },
  {
   "cell_type": "code",
   "execution_count": 5,
   "metadata": {},
   "outputs": [],
   "source": [
    "def draw(q,m,p): \n",
    "    q[p]=m\n",
    "    return q"
   ]
  },
  {
   "cell_type": "code",
   "execution_count": 6,
   "metadata": {},
   "outputs": [
    {
     "name": "stdout",
     "output_type": "stream",
     "text": [
      "   |   |\n",
      "   |   | #\n",
      "   |   |\n",
      "-----------\n",
      "   |   |\n",
      "   |   |  \n",
      "   |   |\n",
      "-----------\n",
      "   |   |\n",
      "   |   |  \n",
      "   |   |\n"
     ]
    }
   ],
   "source": [
    "q=draw(q,'#',3)\n",
    "display_board(q)\n"
   ]
  },
  {
   "cell_type": "code",
   "execution_count": 7,
   "metadata": {},
   "outputs": [],
   "source": [
    "def wincheck(q,mark):\n",
    "    return(q[1]==q[2]==q[3]==mark or\n",
    "          q[4]==q[5]==q[6]==mark or\n",
    "          q[7]==q[8]==q[9]==mark or\n",
    "          q[1]==q[4]==q[7]==mark or\n",
    "          q[2]==q[5]==q[8]==mark or\n",
    "          q[3]==q[6]==q[9]==mark or\n",
    "          q[1]==q[5]==q[9]==mark or\n",
    "          q[3]==q[5]==q[7]==mark )"
   ]
  },
  {
   "cell_type": "code",
   "execution_count": 8,
   "metadata": {},
   "outputs": [],
   "source": [
    "q=['x','o','o','x','o','o','o','x','o','x']"
   ]
  },
  {
   "cell_type": "code",
   "execution_count": 9,
   "metadata": {},
   "outputs": [
    {
     "name": "stdout",
     "output_type": "stream",
     "text": [
      "   |   |\n",
      " o | o | x\n",
      "   |   |\n",
      "-----------\n",
      "   |   |\n",
      " o | o | o\n",
      "   |   |\n",
      "-----------\n",
      "   |   |\n",
      " x | o | x\n",
      "   |   |\n"
     ]
    }
   ],
   "source": [
    "display_board(q)"
   ]
  },
  {
   "cell_type": "code",
   "execution_count": 10,
   "metadata": {},
   "outputs": [
    {
     "data": {
      "text/plain": [
       "False"
      ]
     },
     "execution_count": 10,
     "metadata": {},
     "output_type": "execute_result"
    }
   ],
   "source": [
    "wincheck(q,'x')"
   ]
  },
  {
   "cell_type": "code",
   "execution_count": 11,
   "metadata": {},
   "outputs": [],
   "source": [
    "def spacecheck(q,ind):\n",
    "    return q[ind] == \" \""
   ]
  },
  {
   "cell_type": "code",
   "execution_count": 12,
   "metadata": {},
   "outputs": [],
   "source": [
    "def fullboardcheck(q):\n",
    "    for i in range(1,11):\n",
    "        if spacecheck(q, i):\n",
    "            return False\n",
    "        \n",
    "    return True"
   ]
  },
  {
   "cell_type": "code",
   "execution_count": 13,
   "metadata": {},
   "outputs": [],
   "source": [
    "def playerchoice(q):\n",
    "    position = 0\n",
    "    \n",
    "    while position not in [1,2,3,4,5,6,7,8,9] or not spacecheck(q, position):\n",
    "        position = int(input('Choose your next position: (1-9) '))\n",
    "        \n",
    "    return position"
   ]
  },
  {
   "cell_type": "code",
   "execution_count": 14,
   "metadata": {},
   "outputs": [],
   "source": [
    " def replay():\n",
    "       return input('Do you want to play again? Enter Yes or No: ').lower().startswith('y')"
   ]
  },
  {
   "cell_type": "code",
   "execution_count": 15,
   "metadata": {},
   "outputs": [],
   "source": [
    "import random\n",
    "def choosef():\n",
    "    r=random.randint(1,2)\n",
    "    return r\n",
    "    "
   ]
  },
  {
   "cell_type": "code",
   "execution_count": null,
   "metadata": {},
   "outputs": [
    {
     "name": "stdout",
     "output_type": "stream",
     "text": [
      "   |   |\n",
      " o | o | x\n",
      "   |   |\n",
      "-----------\n",
      "   |   |\n",
      " x | o | x\n",
      "   |   |\n",
      "-----------\n",
      "   |   |\n",
      "   |   | o\n",
      "   |   |\n",
      "Congratulations! player2 has won the game!\n"
     ]
    }
   ],
   "source": [
    "print('Hola folks!!!')\n",
    "\n",
    "while True:\n",
    "    q = [' '] * 10\n",
    "    x,y = choose()\n",
    "    turn = choosef()\n",
    "    print(str(turn) + ' will go first.')\n",
    "    \n",
    "    playg = input('Are you ready to play? Enter y or n.')\n",
    "    \n",
    "    if playg == 'y':\n",
    "        gamer = True\n",
    "    else:\n",
    "        gamer = False\n",
    "\n",
    "    while gamer:\n",
    "        if turn == '1':\n",
    "            display_board(q)\n",
    "            position = playerchoice(q)\n",
    "            draw(q, x, position)\n",
    "\n",
    "            if wincheck(q, x):\n",
    "                display_board(q)\n",
    "                print('Congratulations! You have won the game!')\n",
    "                gamer = False\n",
    "            else:\n",
    "                if fullboardcheck(q):\n",
    "                    display_board(q)\n",
    "                    print('The game is a draw!')\n",
    "                    break\n",
    "                else:\n",
    "                    turn = '2'\n",
    "\n",
    "        else:\n",
    "           \n",
    "            \n",
    "            display_board(q)\n",
    "            position = playerchoice(q)\n",
    "            draw(q, y, position)\n",
    "\n",
    "            if wincheck(q, y):\n",
    "                display_board(q)\n",
    "                print('Congratulations! player2 has won the game!')\n",
    "                gamer = False\n",
    "            else:\n",
    "                if fullboardcheck(q):\n",
    "                    display_board(q)\n",
    "                    print('The game is a draw!')\n",
    "                    break\n",
    "                else:\n",
    "                    turn = '1'\n",
    "\n",
    "    if not replay():\n",
    "        break"
   ]
  },
  {
   "cell_type": "code",
   "execution_count": null,
   "metadata": {},
   "outputs": [],
   "source": []
  },
  {
   "cell_type": "code",
   "execution_count": null,
   "metadata": {},
   "outputs": [],
   "source": [
    "\n"
   ]
  }
 ],
 "metadata": {
  "kernelspec": {
   "display_name": "Python 3",
   "language": "python",
   "name": "python3"
  },
  "language_info": {
   "codemirror_mode": {
    "name": "ipython",
    "version": 3
   },
   "file_extension": ".py",
   "mimetype": "text/x-python",
   "name": "python",
   "nbconvert_exporter": "python",
   "pygments_lexer": "ipython3",
   "version": "3.7.3"
  }
 },
 "nbformat": 4,
 "nbformat_minor": 2
}
